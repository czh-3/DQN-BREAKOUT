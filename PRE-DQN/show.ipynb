{
 "cells": [
  {
   "cell_type": "code",
   "execution_count": 1,
   "metadata": {},
   "outputs": [],
   "source": [
    "import torch\n",
    "import os\n",
    "from collections import deque\n",
    "from utils_env import MyEnv\n",
    "from utils_drl import Agent"
   ]
  },
  {
   "cell_type": "code",
   "execution_count": 2,
   "metadata": {},
   "outputs": [
    {
     "output_type": "stream",
     "name": "stdout",
     "text": [
      "0,9.0\n",
      "1,9.0\n",
      "2,13.0\n",
      "3,12.0\n",
      "4,10.0\n",
      "5,17.0\n",
      "6,12.0\n",
      "7,27.0\n",
      "8,18.0\n",
      "9,27.0\n"
     ]
    }
   ],
   "source": [
    "file = open(\"reward.csv\", \"w\")\n",
    "for i in range(10):\n",
    "    num = f\"{i:03d}\"\n",
    "    model = \"./czh/model_\" + num\n",
    "    device = torch.device(\"cpu\")\n",
    "    env = MyEnv(device)\n",
    "    agent = Agent(env.get_action_dim(), device, 0.99, 0, 0, 0, 1, model)\n",
    "    obs_queue = deque(maxlen=5)\n",
    "    avg_reward, frames = env.evaluate(obs_queue, agent, render=True)\n",
    "    print(i, avg_reward, sep=\",\")\n",
    "    os.mkdir(\"target\" + num)\n",
    "    for ind, frame in enumerate(frames):\n",
    "        frame.save(os.path.join(\"target\" + num, f\"{ind:06d}.png\"),\n",
    "                   format=\"png\")"
   ]
  }
 ],
 "metadata": {
  "kernelspec": {
   "display_name": "Python 3",
   "language": "python",
   "name": "python3"
  },
  "language_info": {
   "codemirror_mode": {
    "name": "ipython",
    "version": 3
   },
   "file_extension": ".py",
   "mimetype": "text/x-python",
   "name": "python",
   "nbconvert_exporter": "python",
   "pygments_lexer": "ipython3",
   "version": "3.8.3-final"
  }
 },
 "nbformat": 4,
 "nbformat_minor": 4
}